{
 "cells": [
  {
   "cell_type": "code",
   "execution_count": 1,
   "id": "fe7c4659-4e75-412f-8911-58459008a709",
   "metadata": {},
   "outputs": [],
   "source": [
    "from bs4 import BeautifulSoup\n",
    "import pandas as pd\n",
    "import requests"
   ]
  },
  {
   "cell_type": "code",
   "execution_count": 3,
   "id": "8513c105-eb0e-4d80-9a88-f883694a648c",
   "metadata": {},
   "outputs": [],
   "source": [
    "response = requests.get('https://en.wikipedia.org/wiki/Road_safety_in_Europe')\n",
    "url = response.text\n",
    "soup = BeautifulSoup(url, 'html.parser')\n",
    "\n",
    "table = soup.find(class_='wikitable sortable')"
   ]
  },
  {
   "cell_type": "code",
   "execution_count": 16,
   "id": "af7ab111-9b1a-450a-82a9-037146c38bbb",
   "metadata": {},
   "outputs": [
    {
     "data": {
      "text/html": [
       "<div>\n",
       "<style scoped>\n",
       "    .dataframe tbody tr th:only-of-type {\n",
       "        vertical-align: middle;\n",
       "    }\n",
       "\n",
       "    .dataframe tbody tr th {\n",
       "        vertical-align: top;\n",
       "    }\n",
       "\n",
       "    .dataframe thead th {\n",
       "        text-align: right;\n",
       "    }\n",
       "</style>\n",
       "<table border=\"1\" class=\"dataframe\">\n",
       "  <thead>\n",
       "    <tr style=\"text-align: right;\">\n",
       "      <th></th>\n",
       "      <th>Country</th>\n",
       "      <th>Area  (thousands of km  2  )  [23]</th>\n",
       "      <th>Population in 2018  [24]</th>\n",
       "      <th>GDP per capita in 2018  [25]</th>\n",
       "      <th>Population density  (inhabitants per km  2  ) in 2017  [26]</th>\n",
       "      <th>Vehicle ownership  (per thousand inhabitants) in 2016  [27]</th>\n",
       "      <th>Road Network Length  (in km) in 2013  [28]</th>\n",
       "      <th>Total Road Deaths in 2018  [29]</th>\n",
       "      <th>Road deaths  per Million Inhabitants in 2018  [29]</th>\n",
       "      <th>Number of People Killed  per Billion km  [29]</th>\n",
       "      <th>Number of Seriously Injured in 2017/2018  [29]</th>\n",
       "    </tr>\n",
       "  </thead>\n",
       "  <tbody>\n",
       "    <tr>\n",
       "      <th>0</th>\n",
       "      <td>Austria</td>\n",
       "      <td>83.9</td>\n",
       "      <td>8822267</td>\n",
       "      <td>38000</td>\n",
       "      <td>107</td>\n",
       "      <td>665</td>\n",
       "      <td>124115</td>\n",
       "      <td>409</td>\n",
       "      <td>45</td>\n",
       "      <td>5.2 (2015–2017)</td>\n",
       "      <td>7,664 (2017)</td>\n",
       "    </tr>\n",
       "    <tr>\n",
       "      <th>1</th>\n",
       "      <td>Belgium</td>\n",
       "      <td>30.5</td>\n",
       "      <td>11398589</td>\n",
       "      <td>35300</td>\n",
       "      <td>376</td>\n",
       "      <td>585</td>\n",
       "      <td>155210</td>\n",
       "      <td>590</td>\n",
       "      <td>52</td>\n",
       "      <td>NaN</td>\n",
       "      <td>3,757 (2017)</td>\n",
       "    </tr>\n",
       "    <tr>\n",
       "      <th>2</th>\n",
       "      <td>Bulgaria</td>\n",
       "      <td>111.0</td>\n",
       "      <td>7050034</td>\n",
       "      <td>6500</td>\n",
       "      <td>65</td>\n",
       "      <td>516</td>\n",
       "      <td>19678</td>\n",
       "      <td>611</td>\n",
       "      <td>88</td>\n",
       "      <td>NaN</td>\n",
       "      <td>8,680 (2018)</td>\n",
       "    </tr>\n",
       "    <tr>\n",
       "      <th>3</th>\n",
       "      <td>Croatia</td>\n",
       "      <td>56.5</td>\n",
       "      <td>4105493</td>\n",
       "      <td>11,500†  a</td>\n",
       "      <td>74</td>\n",
       "      <td>416</td>\n",
       "      <td>26820</td>\n",
       "      <td>317</td>\n",
       "      <td>77</td>\n",
       "      <td>12.7 (2016–2018)</td>\n",
       "      <td>2.776 (2018)</td>\n",
       "    </tr>\n",
       "    <tr>\n",
       "      <th>4</th>\n",
       "      <td>Cyprus</td>\n",
       "      <td>9.3</td>\n",
       "      <td>864236</td>\n",
       "      <td>23300</td>\n",
       "      <td>128</td>\n",
       "      <td>726</td>\n",
       "      <td>9765</td>\n",
       "      <td>49</td>\n",
       "      <td>57</td>\n",
       "      <td>NaN</td>\n",
       "      <td>348 (2018)</td>\n",
       "    </tr>\n",
       "  </tbody>\n",
       "</table>\n",
       "</div>"
      ],
      "text/plain": [
       "    Country  Area  (thousands of km  2  )  [23] Population in 2018  [24]  \\\n",
       "0   Austria                                83.9                  8822267   \n",
       "1   Belgium                                30.5                 11398589   \n",
       "2  Bulgaria                               111.0                  7050034   \n",
       "3   Croatia                                56.5                  4105493   \n",
       "4    Cyprus                                 9.3                   864236   \n",
       "\n",
       "  GDP per capita in 2018  [25]  \\\n",
       "0                        38000   \n",
       "1                        35300   \n",
       "2                         6500   \n",
       "3                   11,500†  a   \n",
       "4                        23300   \n",
       "\n",
       "   Population density  (inhabitants per km  2  ) in 2017  [26]  \\\n",
       "0                                                107             \n",
       "1                                                376             \n",
       "2                                                 65             \n",
       "3                                                 74             \n",
       "4                                                128             \n",
       "\n",
       "   Vehicle ownership  (per thousand inhabitants) in 2016  [27]  \\\n",
       "0                                                665             \n",
       "1                                                585             \n",
       "2                                                516             \n",
       "3                                                416             \n",
       "4                                                726             \n",
       "\n",
       "  Road Network Length  (in km) in 2013  [28]  Total Road Deaths in 2018  [29]  \\\n",
       "0                                     124115                              409   \n",
       "1                                     155210                              590   \n",
       "2                                      19678                              611   \n",
       "3                                      26820                              317   \n",
       "4                                       9765                               49   \n",
       "\n",
       "   Road deaths  per Million Inhabitants in 2018  [29]  \\\n",
       "0                                                 45    \n",
       "1                                                 52    \n",
       "2                                                 88    \n",
       "3                                                 77    \n",
       "4                                                 57    \n",
       "\n",
       "  Number of People Killed  per Billion km  [29]  \\\n",
       "0                               5.2 (2015–2017)   \n",
       "1                                           NaN   \n",
       "2                                           NaN   \n",
       "3                              12.7 (2016–2018)   \n",
       "4                                           NaN   \n",
       "\n",
       "  Number of Seriously Injured in 2017/2018  [29]  \n",
       "0                                   7,664 (2017)  \n",
       "1                                   3,757 (2017)  \n",
       "2                                   8,680 (2018)  \n",
       "3                                   2.776 (2018)  \n",
       "4                                     348 (2018)  "
      ]
     },
     "execution_count": 16,
     "metadata": {},
     "output_type": "execute_result"
    }
   ],
   "source": [
    "df = pd.read_html(table.prettify())\n",
    "df = df[0]\n",
    "df.head(5)"
   ]
  },
  {
   "cell_type": "code",
   "execution_count": 18,
   "id": "4a97278e-18dc-4933-8317-f8c713e00e1b",
   "metadata": {},
   "outputs": [
    {
     "data": {
      "text/plain": [
       "Index(['Country', 'Area  (thousands of km  2  )  [23]',\n",
       "       'Population in 2018  [24]', 'GDP per capita in 2018  [25]',\n",
       "       'Population density  (inhabitants per km  2  ) in 2017  [26]',\n",
       "       'Vehicle ownership  (per thousand inhabitants) in 2016  [27]',\n",
       "       'Road Network Length  (in km) in 2013  [28]',\n",
       "       'Total Road Deaths in 2018  [29]',\n",
       "       'Road deaths  per Million Inhabitants in 2018  [29]',\n",
       "       'Number of People Killed  per Billion km  [29]',\n",
       "       'Number of Seriously Injured in 2017/2018  [29]'],\n",
       "      dtype='object')"
      ]
     },
     "execution_count": 18,
     "metadata": {},
     "output_type": "execute_result"
    }
   ],
   "source": [
    "df.columns"
   ]
  },
  {
   "cell_type": "code",
   "execution_count": 19,
   "id": "5f5911a5-8749-41b6-8a07-239cefce4406",
   "metadata": {},
   "outputs": [],
   "source": [
    "new_df = df.rename(columns={\n",
    "    'Country': 'Country',\n",
    "    'Area  (thousands of km  2  )  [23]': 'Area',\n",
    "    'Population in 2018  [24]': 'Population',\n",
    "    'GDP per capita in 2018  [25]': 'GDP per capita',\n",
    "    'Population density  (inhabitants per km  2  ) in 2017  [26]': 'Population density',\n",
    "    'Vehicle ownership  (per thousand inhabitants) in 2016  [27]': 'Vehicle ownership',\n",
    "    'Total Road Deaths in 2018  [29]': 'Total road deaths',\n",
    "    'Road deaths  per Million Inhabitants in 2018  [29]': 'Road deaths per Million Inhabitants',\n",
    "\n",
    "})\n",
    "\n",
    "new_df.drop(['Road Network Length  (in km) in 2013  [28]',\n",
    "             'Number of People Killed  per Billion km  [29]',\n",
    "             'Number of Seriously Injured in 2017/2018  [29]'],\n",
    "            axis=1, inplace=True)"
   ]
  },
  {
   "cell_type": "code",
   "execution_count": 20,
   "id": "a5ed4e41-29d6-4e5d-88fe-d402620a7c62",
   "metadata": {},
   "outputs": [],
   "source": [
    "year_column = [2018 for i in range(29)]\n",
    "new_df.insert(1, 'Year', year_column)"
   ]
  },
  {
   "cell_type": "code",
   "execution_count": 21,
   "id": "9cc822fa-df8e-4c68-afb2-1d29b2f20a01",
   "metadata": {},
   "outputs": [],
   "source": [
    "sorted_df = new_df.sort_values(by='Road deaths per Million Inhabitants')\n"
   ]
  },
  {
   "cell_type": "code",
   "execution_count": 22,
   "id": "e90edf36-a422-420b-8d92-0203d83c3e6c",
   "metadata": {},
   "outputs": [],
   "source": [
    "# Converts the dataframe to csv\n",
    "sorted_df.to_csv(\"myfile.csv\", index=False)"
   ]
  },
  {
   "cell_type": "code",
   "execution_count": 24,
   "id": "4f6cdcbc-6ed7-4b3e-98e7-cdcfa6a79935",
   "metadata": {},
   "outputs": [
    {
     "name": "stdout",
     "output_type": "stream",
     "text": [
      "\u001b[33mWARNING: Package(s) not found: beautifulsoup\u001b[0m\u001b[33m\n",
      "\u001b[0m"
     ]
    }
   ],
   "source": [
    "!pip3 show beautifulsoup"
   ]
  },
  {
   "cell_type": "code",
   "execution_count": null,
   "id": "4e0c4fa2-7a39-42b8-9d1f-ed536e076cc5",
   "metadata": {},
   "outputs": [],
   "source": []
  }
 ],
 "metadata": {
  "kernelspec": {
   "display_name": "Python 3 (ipykernel)",
   "language": "python",
   "name": "python3"
  },
  "language_info": {
   "codemirror_mode": {
    "name": "ipython",
    "version": 3
   },
   "file_extension": ".py",
   "mimetype": "text/x-python",
   "name": "python",
   "nbconvert_exporter": "python",
   "pygments_lexer": "ipython3",
   "version": "3.10.6"
  }
 },
 "nbformat": 4,
 "nbformat_minor": 5
}
